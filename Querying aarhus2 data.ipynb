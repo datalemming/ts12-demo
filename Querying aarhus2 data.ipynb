{
 "cells": [
  {
   "cell_type": "markdown",
   "metadata": {},
   "source": [
    "Table format:\n",
    "TABLE aarhus2:\n",
    "\n",
    "status,extid,ts,avgMeasuredTime,avgSpeed,medianMeasuredTime,vehicleCount,id,report_id\n",
    "    \n",
    "PRIMARY KEY((status,extid,quantum(ts,30,'d')),status,extid,ts))"
   ]
  },
  {
   "cell_type": "code",
   "execution_count": 1,
   "metadata": {
    "collapsed": false
   },
   "outputs": [
    {
     "name": "stderr",
     "output_type": "stream",
     "text": [
      "/home/stephen/aarhus/local/lib/python2.7/site-packages/riak/security.py:45: UserWarning: OpenSSL 1.0.1f 6 Jan 2014 (>= 1.0.1g required), TLS 1.2 support: False\n",
      "  warnings.warn(msg, UserWarning)\n"
     ]
    },
    {
     "data": {
      "text/plain": [
       "True"
      ]
     },
     "execution_count": 1,
     "metadata": {},
     "output_type": "execute_result"
    }
   ],
   "source": [
    "from riak import RiakClient\n",
    "from datetime import datetime\n",
    "import calendar\n",
    "import csv\n",
    "def changetime(stime):\n",
    "            dt=datetime.strptime(stime,'%Y-%m-%dT%H:%M:%S')\n",
    "            #print dt\n",
    "            return calendar.timegm(datetime.timetuple(dt))*1000\n",
    "            \n",
    "c=RiakClient()\n",
    "c.ping()"
   ]
  },
  {
   "cell_type": "code",
   "execution_count": 2,
   "metadata": {
    "collapsed": false
   },
   "outputs": [
    {
     "name": "stdout",
     "output_type": "stream",
     "text": [
      "1392249600000 1397260800000\n"
     ]
    }
   ],
   "source": [
    "startdate=changetime('2014-02-13T00:00:00')\n",
    "enddate=changetime('2014-04-12T00:00:00')\n",
    "\n",
    "print startdate, enddate"
   ]
  },
  {
   "cell_type": "code",
   "execution_count": 3,
   "metadata": {
    "collapsed": false
   },
   "outputs": [
    {
     "name": "stdout",
     "output_type": "stream",
     "text": [
      "\n",
      "    select count(*)  from aarhus2 where ts > 1392249600000 and ts < 1397260800000 and status='OK' and extid='668'\n",
      "\n",
      "<riak.ts_object.TsObject object at 0x7ff4f4bf42d0>\n",
      "[[15848L]]\n"
     ]
    }
   ],
   "source": [
    "q=\"\"\"\n",
    "    select count(*)  from aarhus2 where ts > {t1} and ts < {t2} and status='OK' and extid='668'\n",
    "\"\"\"\n",
    "query=q.format(t1=startdate, t2=enddate)\n",
    "print query\n",
    "ds=c.ts_query('aarhus2', query)\n",
    "#print ds\n",
    "\n",
    "#for r in range(0,10):\n",
    "#    print ds.rows[r]\n",
    "\n",
    "#print len(ds.rows)\n",
    "print ds.rows"
   ]
  },
  {
   "cell_type": "code",
   "execution_count": 4,
   "metadata": {
    "collapsed": false
   },
   "outputs": [
    {
     "name": "stdout",
     "output_type": "stream",
     "text": [
      "['OK', '668', datetime.datetime(2014, 2, 13, 11, 30), 66L, 56L, 66L, 7L, 190000L, 158324L]\n",
      "['OK', '668', datetime.datetime(2014, 2, 13, 11, 35), 69L, 53L, 69L, 5L, 190449L, 158324L]\n",
      "['OK', '668', datetime.datetime(2014, 2, 13, 11, 40), 69L, 53L, 69L, 6L, 190898L, 158324L]\n",
      "['OK', '668', datetime.datetime(2014, 2, 13, 11, 45), 70L, 52L, 70L, 3L, 191347L, 158324L]\n",
      "['OK', '668', datetime.datetime(2014, 2, 13, 11, 50), 64L, 57L, 64L, 6L, 191796L, 158324L]\n",
      "['OK', '668', datetime.datetime(2014, 2, 13, 11, 55), 75L, 49L, 75L, 9L, 192245L, 158324L]\n",
      "['OK', '668', datetime.datetime(2014, 2, 13, 12, 0), 73L, 50L, 73L, 11L, 192694L, 158324L]\n",
      "['OK', '668', datetime.datetime(2014, 2, 13, 12, 5), 59L, 62L, 59L, 8L, 193143L, 158324L]\n",
      "['OK', '668', datetime.datetime(2014, 2, 13, 12, 10), 61L, 60L, 61L, 10L, 193592L, 158324L]\n",
      "['OK', '668', datetime.datetime(2014, 2, 13, 12, 15), 63L, 58L, 63L, 12L, 194041L, 158324L]\n"
     ]
    }
   ],
   "source": [
    "q=\"\"\"\n",
    "    select *  from aarhus2 where ts > {t1} and ts < {t2} and status='OK' and extid='668'\n",
    "\"\"\"\n",
    "query=q.format(t1=startdate, t2=enddate)\n",
    "#print query\n",
    "ds1=c.ts_query('aarhus', query)\n",
    "#print ds\n",
    "\n",
    "#for r in range(0,10):\n",
    "#    print ds.rows[r]\n",
    "\n",
    "#print len(ds.rows)\n",
    "for r in range (0,10):\n",
    "    print ds1.rows[r]"
   ]
  },
  {
   "cell_type": "code",
   "execution_count": 5,
   "metadata": {
    "collapsed": false
   },
   "outputs": [
    {
     "name": "stdout",
     "output_type": "stream",
     "text": [
      "[[132L]]\n"
     ]
    }
   ],
   "source": [
    "q=\"\"\"\n",
    "    select max(avgSpeed)  from aarhus2 where ts > {t1} and ts < {t2} and status='OK' and extid='668'\n",
    "\"\"\"\n",
    "query=q.format(t1=startdate, t2=enddate)\n",
    "#print query\n",
    "ds=c.ts_query('aarhus', query)\n",
    "#print ds\n",
    "\n",
    "#for r in range(0,10):\n",
    "#    print ds.rows[r]\n",
    "\n",
    "#print len(ds.rows)\n",
    "print ds.rows"
   ]
  },
  {
   "cell_type": "code",
   "execution_count": 6,
   "metadata": {
    "collapsed": false
   },
   "outputs": [
    {
     "name": "stdout",
     "output_type": "stream",
     "text": [
      "[[13L]]\n"
     ]
    }
   ],
   "source": [
    "q=\"\"\"\n",
    "    select min(avgSpeed)  from aarhus2 where ts > {t1} and ts < {t2} and status='OK' and extid='668'\n",
    "\"\"\"\n",
    "query=q.format(t1=startdate, t2=enddate)\n",
    "#print query\n",
    "ds=c.ts_query('aarhus', query)\n",
    "#print ds\n",
    "\n",
    "#for r in range(0,10):\n",
    "#    print ds.rows[r]\n",
    "\n",
    "#print len(ds.rows)\n",
    "print ds.rows"
   ]
  },
  {
   "cell_type": "markdown",
   "metadata": {},
   "source": [
    "### Riak-Shell"
   ]
  },
  {
   "cell_type": "markdown",
   "metadata": {},
   "source": [
    "### Extending the Python client with Pandas (and giving Graphana a run for it's money)"
   ]
  },
  {
   "cell_type": "code",
   "execution_count": 7,
   "metadata": {
    "collapsed": true
   },
   "outputs": [],
   "source": [
    "import pandas as pd"
   ]
  },
  {
   "cell_type": "code",
   "execution_count": 8,
   "metadata": {
    "collapsed": false
   },
   "outputs": [
    {
     "name": "stdout",
     "output_type": "stream",
     "text": [
      "    0    1                   2   3   4   5  6       7       8\n",
      "0  OK  668 2014-02-13 11:30:00  66  56  66  7  190000  158324\n",
      "1  OK  668 2014-02-13 11:35:00  69  53  69  5  190449  158324\n",
      "2  OK  668 2014-02-13 11:40:00  69  53  69  6  190898  158324\n",
      "3  OK  668 2014-02-13 11:45:00  70  52  70  3  191347  158324\n",
      "4  OK  668 2014-02-13 11:50:00  64  57  64  6  191796  158324\n",
      "\n",
      "\n",
      "\n",
      "        0    1                   2   3   4   5  6        7       8\n",
      "15843  OK  668 2014-04-11 23:35:00  67  55  67  0  7199782  158324\n",
      "15844  OK  668 2014-04-11 23:40:00  67  55  67  0  7200207  158324\n",
      "15845  OK  668 2014-04-11 23:45:00  67  55  67  0  7200656  158324\n",
      "15846  OK  668 2014-04-11 23:50:00  67  55  67  0  7201096  158324\n",
      "15847  OK  668 2014-04-11 23:55:00  67  55  67  0  7201544  158324\n"
     ]
    }
   ],
   "source": [
    "df=pd.DataFrame(ds1.rows)\n",
    "print df.head()\n",
    "print'\\n\\n'\n",
    "print df.tail()"
   ]
  },
  {
   "cell_type": "code",
   "execution_count": 9,
   "metadata": {
    "collapsed": false
   },
   "outputs": [
    {
     "name": "stdout",
     "output_type": "stream",
     "text": [
      "                  3             4             5             6               7  \\\n",
      "count  15848.000000  15848.000000  15848.000000  15848.000000    15848.000000   \n",
      "mean      63.380868     60.640649     63.380868      4.568526  3692895.333165   \n",
      "std       17.703095     11.494118     17.703095      5.330555  2019036.478373   \n",
      "min       28.000000     13.000000     28.000000      0.000000   190000.000000   \n",
      "25%       56.000000     55.000000     56.000000      0.000000  1946980.750000   \n",
      "50%       61.000000     60.000000     61.000000      3.000000  3695419.500000   \n",
      "75%       67.000000     66.000000     67.000000      7.000000  5431574.250000   \n",
      "max      275.000000    132.000000    275.000000     36.000000  7201544.000000   \n",
      "\n",
      "            8  \n",
      "count   15848  \n",
      "mean   158324  \n",
      "std         0  \n",
      "min    158324  \n",
      "25%    158324  \n",
      "50%    158324  \n",
      "75%    158324  \n",
      "max    158324  \n"
     ]
    }
   ],
   "source": [
    "print df.describe()"
   ]
  },
  {
   "cell_type": "code",
   "execution_count": 12,
   "metadata": {
    "collapsed": true
   },
   "outputs": [],
   "source": [
    "import matplotlib as plt\n",
    "%matplotlib inline"
   ]
  },
  {
   "cell_type": "code",
   "execution_count": 13,
   "metadata": {
    "collapsed": false
   },
   "outputs": [
    {
     "data": {
      "text/plain": [
       "<matplotlib.axes._subplots.AxesSubplot at 0x7ff4d8d18a10>"
      ]
     },
     "execution_count": 13,
     "metadata": {},
     "output_type": "execute_result"
    },
    {
     "data": {
      "image/png": "[encoded data removed]",
      "text/plain": [
       "<matplotlib.figure.Figure at 0x7ff4dfde1610>"
      ]
     },
     "metadata": {},
     "output_type": "display_data"
    }
   ],
   "source": [
    "df.plot(x=2,y=6,figsize=(15,15))"
   ]
  },
  {
   "cell_type": "code",
   "execution_count": 20,
   "metadata": {
    "collapsed": false
   },
   "outputs": [
    {
     "name": "stdout",
     "output_type": "stream",
     "text": [
      "\n",
      "    select max(vehicleCount) from aarhus2 where ts > 1392249600000 and ts < 1397260800000\n",
      "    and status='OK' and extid='668';\n",
      "\n",
      "<riak.ts_object.TsObject object at 0x7ff4dffb8210>\n",
      "[[36L]]\n"
     ]
    }
   ],
   "source": [
    "q=\"\"\"\n",
    "    select max(vehicleCount) from aarhus2 where ts > {t1} and ts < {t2}\n",
    "    and status='OK' and extid='668';\n",
    "\"\"\"\n",
    "query=q.format(t1=startdate, t2=enddate)\n",
    "print query\n",
    "ds=c.ts_query('aarhus2', query)\n",
    "#print ds\n",
    "print ds.rows"
   ]
  },
  {
   "cell_type": "code",
   "execution_count": 22,
   "metadata": {
    "collapsed": false
   },
   "outputs": [
    {
     "name": "stdout",
     "output_type": "stream",
     "text": [
      "[32L, datetime.datetime(2014, 2, 19, 5, 55)]\n",
      "[32L, datetime.datetime(2014, 2, 26, 6, 40)]\n",
      "[33L, datetime.datetime(2014, 3, 5, 5, 35)]\n",
      "[36L, datetime.datetime(2014, 3, 5, 5, 40)]\n",
      "[32L, datetime.datetime(2014, 3, 11, 6, 0)]\n",
      "[31L, datetime.datetime(2014, 3, 12, 5, 40)]\n",
      "[31L, datetime.datetime(2014, 3, 17, 5, 30)]\n",
      "[32L, datetime.datetime(2014, 3, 18, 7, 20)]\n",
      "[34L, datetime.datetime(2014, 3, 21, 7, 30)]\n",
      "[32L, datetime.datetime(2014, 3, 27, 6, 25)]\n",
      "[32L, datetime.datetime(2014, 4, 9, 5, 20)]\n"
     ]
    }
   ],
   "source": [
    "q=\"\"\"\n",
    "    select vehicleCount, ts from aarhus2 where ts > {t1} and ts < {t2}\n",
    "    and status='OK' and extid='668' and vehicleCount>30;\n",
    "\"\"\"\n",
    "query=q.format(t1=startdate, t2=enddate)\n",
    "#print query\n",
    "ds=c.ts_query('aarhus2', query)\n",
    "#print ds\n",
    "for r in range(len(ds2.rows)):\n",
    "    print ds.rows[r]"
   ]
  },
  {
   "cell_type": "code",
   "execution_count": null,
   "metadata": {
    "collapsed": true
   },
   "outputs": [],
   "source": []
  }
 ],
 "metadata": {
  "kernelspec": {
   "display_name": "Python 2",
   "language": "python",
   "name": "python2"
  },
  "language_info": {
   "codemirror_mode": {
    "name": "ipython",
    "version": 2
   },
   "file_extension": ".py",
   "mimetype": "text/x-python",
   "name": "python",
   "nbconvert_exporter": "python",
   "pygments_lexer": "ipython2",
   "version": "2.7.6"
  }
 },
 "nbformat": 4,
 "nbformat_minor": 0
}
