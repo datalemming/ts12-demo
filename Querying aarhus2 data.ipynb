{
 "cells": [
  {
   "cell_type": "markdown",
   "metadata": {},
   "source": [
    "Table format:\n",
    "TABLE aarhus2:\n",
    "\n",
    "status,extid,ts,avgMeasuredTime,avgSpeed,medianMeasuredTime,vehicleCount,id,report_id\n",
    "    \n",
    "PRIMARY KEY((status,extid,quantum(ts,30,'d')),status,extid,ts))"
   ]
  },
  {
   "cell_type": "code",
   "execution_count": 1,
   "metadata": {
    "collapsed": false
   },
   "outputs": [
    {
     "name": "stderr",
     "output_type": "stream",
     "text": [
      "/home/stephen/aarhus/local/lib/python2.7/site-packages/riak/security.py:45: UserWarning: OpenSSL 1.0.1f 6 Jan 2014 (>= 1.0.1g required), TLS 1.2 support: False\n",
      "  warnings.warn(msg, UserWarning)\n"
     ]
    },
    {
     "data": {
      "text/plain": [
       "True"
      ]
     },
     "execution_count": 1,
     "metadata": {},
     "output_type": "execute_result"
    }
   ],
   "source": [
    "from riak import RiakClient\n",
    "from datetime import datetime\n",
    "import calendar\n",
    "import csv\n",
    "def changetime(stime):\n",
    "            dt=datetime.strptime(stime,'%Y-%m-%dT%H:%M:%S')\n",
    "            #print dt\n",
    "            return calendar.timegm(datetime.timetuple(dt))*1000\n",
    "            \n",
    "c=RiakClient()\n",
    "c.ping()"
   ]
  },
  {
   "cell_type": "code",
   "execution_count": 2,
   "metadata": {
    "collapsed": false
   },
   "outputs": [
    {
     "name": "stdout",
     "output_type": "stream",
     "text": [
      "1392249600000 1392854400000\n"
     ]
    }
   ],
   "source": [
    "startdate=changetime('2014-02-13T00:00:00')\n",
    "enddate=changetime('2014-02-20T00:00:00')\n",
    "\n",
    "print startdate, enddate"
   ]
  },
  {
   "cell_type": "code",
   "execution_count": 3,
   "metadata": {
    "collapsed": false
   },
   "outputs": [
    {
     "name": "stdout",
     "output_type": "stream",
     "text": [
      "\n",
      "    select count(*)  from aarhus2 where ts > 1392249600000 and ts < 1392854400000 and status='OK' and extid='668'\n",
      "\n",
      "<riak.ts_object.TsObject object at 0x7fb8910db2d0>\n",
      "[[1875L]]\n"
     ]
    }
   ],
   "source": [
    "q=\"\"\"\n",
    "    select count(*)  from aarhus2 where ts > {t1} and ts < {t2} and status='OK' and extid='668'\n",
    "\"\"\"\n",
    "query=q.format(t1=startdate, t2=enddate)\n",
    "print query\n",
    "ds=c.ts_query('aarhus2', query)\n",
    "print ds\n",
    "\n",
    "#for r in range(0,10):\n",
    "#    print ds.rows[r]\n",
    "\n",
    "#print len(ds.rows)\n",
    "print ds.rows"
   ]
  },
  {
   "cell_type": "code",
   "execution_count": 4,
   "metadata": {
    "collapsed": false
   },
   "outputs": [
    {
     "name": "stdout",
     "output_type": "stream",
     "text": [
      "['OK', '668', datetime.datetime(2014, 2, 13, 11, 30), 66L, 56L, 66L, 7L, 190000L, 158324L]\n",
      "['OK', '668', datetime.datetime(2014, 2, 13, 11, 35), 69L, 53L, 69L, 5L, 190449L, 158324L]\n",
      "['OK', '668', datetime.datetime(2014, 2, 13, 11, 40), 69L, 53L, 69L, 6L, 190898L, 158324L]\n",
      "['OK', '668', datetime.datetime(2014, 2, 13, 11, 45), 70L, 52L, 70L, 3L, 191347L, 158324L]\n",
      "['OK', '668', datetime.datetime(2014, 2, 13, 11, 50), 64L, 57L, 64L, 6L, 191796L, 158324L]\n",
      "['OK', '668', datetime.datetime(2014, 2, 13, 11, 55), 75L, 49L, 75L, 9L, 192245L, 158324L]\n",
      "['OK', '668', datetime.datetime(2014, 2, 13, 12, 0), 73L, 50L, 73L, 11L, 192694L, 158324L]\n",
      "['OK', '668', datetime.datetime(2014, 2, 13, 12, 5), 59L, 62L, 59L, 8L, 193143L, 158324L]\n",
      "['OK', '668', datetime.datetime(2014, 2, 13, 12, 10), 61L, 60L, 61L, 10L, 193592L, 158324L]\n",
      "['OK', '668', datetime.datetime(2014, 2, 13, 12, 15), 63L, 58L, 63L, 12L, 194041L, 158324L]\n"
     ]
    }
   ],
   "source": [
    "q=\"\"\"\n",
    "    select *  from aarhus2 where ts > {t1} and ts < {t2} and status='OK' and extid='668'\n",
    "\"\"\"\n",
    "query=q.format(t1=startdate, t2=enddate)\n",
    "#print query\n",
    "ds1=c.ts_query('aarhus', query)\n",
    "#print ds\n",
    "\n",
    "#for r in range(0,10):\n",
    "#    print ds.rows[r]\n",
    "\n",
    "#print len(ds.rows)\n",
    "for r in range (0,10):\n",
    "    print ds1.rows[r]"
   ]
  },
  {
   "cell_type": "code",
   "execution_count": 5,
   "metadata": {
    "collapsed": false
   },
   "outputs": [
    {
     "name": "stdout",
     "output_type": "stream",
     "text": [
      "[[112L]]\n"
     ]
    }
   ],
   "source": [
    "q=\"\"\"\n",
    "    select max(avgSpeed)  from aarhus2 where ts > {t1} and ts < {t2} and status='OK' and extid='668'\n",
    "\"\"\"\n",
    "query=q.format(t1=startdate, t2=enddate)\n",
    "#print query\n",
    "ds=c.ts_query('aarhus', query)\n",
    "#print ds\n",
    "\n",
    "#for r in range(0,10):\n",
    "#    print ds.rows[r]\n",
    "\n",
    "#print len(ds.rows)\n",
    "print ds.rows"
   ]
  },
  {
   "cell_type": "code",
   "execution_count": 6,
   "metadata": {
    "collapsed": false
   },
   "outputs": [
    {
     "name": "stdout",
     "output_type": "stream",
     "text": [
      "[[13L]]\n"
     ]
    }
   ],
   "source": [
    "q=\"\"\"\n",
    "    select min(avgSpeed)  from aarhus2 where ts > {t1} and ts < {t2} and status='OK' and extid='668'\n",
    "\"\"\"\n",
    "query=q.format(t1=startdate, t2=enddate)\n",
    "#print query\n",
    "ds=c.ts_query('aarhus', query)\n",
    "#print ds\n",
    "\n",
    "#for r in range(0,10):\n",
    "#    print ds.rows[r]\n",
    "\n",
    "#print len(ds.rows)\n",
    "print ds.rows"
   ]
  },
  {
   "cell_type": "markdown",
   "metadata": {},
   "source": [
    "### Riak-Shell"
   ]
  },
  {
   "cell_type": "markdown",
   "metadata": {},
   "source": [
    "### Extending the Python client with Pandas"
   ]
  },
  {
   "cell_type": "code",
   "execution_count": 7,
   "metadata": {
    "collapsed": true
   },
   "outputs": [],
   "source": [
    "import pandas as pd"
   ]
  },
  {
   "cell_type": "code",
   "execution_count": 26,
   "metadata": {
    "collapsed": false
   },
   "outputs": [
    {
     "name": "stdout",
     "output_type": "stream",
     "text": [
      "    0    1                   2   3   4   5  6       7       8\n",
      "0  OK  668 2014-02-13 11:30:00  66  56  66  7  190000  158324\n",
      "1  OK  668 2014-02-13 11:35:00  69  53  69  5  190449  158324\n",
      "2  OK  668 2014-02-13 11:40:00  69  53  69  6  190898  158324\n",
      "3  OK  668 2014-02-13 11:45:00  70  52  70  3  191347  158324\n",
      "4  OK  668 2014-02-13 11:50:00  64  57  64  6  191796  158324\n",
      "\n",
      "\n",
      "\n",
      "       0    1                   2   3   4   5  6        7       8\n",
      "1870  OK  668 2014-02-19 23:35:00  54  68  54  1  1020855  158324\n",
      "1871  OK  668 2014-02-19 23:40:00  54  68  54  0  1021259  158324\n",
      "1872  OK  668 2014-02-19 23:45:00  54  68  54  0  1021645  158324\n",
      "1873  OK  668 2014-02-19 23:50:00  54  68  54  0  1022034  158324\n",
      "1874  OK  668 2014-02-19 23:55:00  54  68  54  0  1022417  158324\n"
     ]
    }
   ],
   "source": [
    "df=pd.DataFrame(ds1.rows)\n",
    "print df.head()\n",
    "print'\\n\\n'\n",
    "print df.tail()"
   ]
  },
  {
   "cell_type": "code",
   "execution_count": 27,
   "metadata": {
    "collapsed": false
   },
   "outputs": [
    {
     "name": "stdout",
     "output_type": "stream",
     "text": [
      "                 3            4            5            6               7  \\\n",
      "count  1875.000000  1875.000000  1875.000000  1875.000000     1875.000000   \n",
      "mean     62.943467    61.533867    62.943467     4.094400   606000.141867   \n",
      "std      20.560814    12.236085    20.560814     4.973692   241141.370784   \n",
      "min      33.000000    13.000000    33.000000     0.000000   190000.000000   \n",
      "25%      56.000000    56.000000    56.000000     0.000000   396145.500000   \n",
      "50%      60.000000    61.000000    60.000000     2.000000   605996.000000   \n",
      "75%      66.000000    66.000000    66.000000     7.000000   815388.500000   \n",
      "max     275.000000   112.000000   275.000000    32.000000  1022417.000000   \n",
      "\n",
      "            8  \n",
      "count    1875  \n",
      "mean   158324  \n",
      "std         0  \n",
      "min    158324  \n",
      "25%    158324  \n",
      "50%    158324  \n",
      "75%    158324  \n",
      "max    158324  \n"
     ]
    }
   ],
   "source": [
    "print df.describe()"
   ]
  },
  {
   "cell_type": "code",
   "execution_count": 28,
   "metadata": {
    "collapsed": true
   },
   "outputs": [],
   "source": [
    "import matplotlib as plt\n",
    "%matplotlib inline"
   ]
  },
  {
   "cell_type": "code",
   "execution_count": 29,
   "metadata": {
    "collapsed": false
   },
   "outputs": [
    {
     "data": {
      "text/plain": [
       "<matplotlib.axes._subplots.AxesSubplot at 0x7fb8900dc1d0>"
      ]
     },
     "execution_count": 29,
     "metadata": {},
     "output_type": "execute_result"
    },
    {
     "data": {
      "image/png": "[encoded data removed]",
      "text/plain": [
       "<matplotlib.figure.Figure at 0x7fb8900c35d0>"
      ]
     },
     "metadata": {},
     "output_type": "display_data"
    }
   ],
   "source": [
    "df.plot(x=2,y=6,figsize=(12,12))"
   ]
  },
  {
   "cell_type": "code",
   "execution_count": 34,
   "metadata": {
    "collapsed": false
   },
   "outputs": [
    {
     "name": "stdout",
     "output_type": "stream",
     "text": [
      "\n",
      "    select max(vehicleCount) from aarhus2 where ts > 1392249600000 and ts < 1392854400000\n",
      "    and status='OK' and extid='668';\n",
      "\n",
      "<riak.ts_object.TsObject object at 0x7fb87fe62810>\n",
      "[[32L]]\n"
     ]
    }
   ],
   "source": [
    "q=\"\"\"\n",
    "    select max(vehicleCount) from aarhus2 where ts > {t1} and ts < {t2}\n",
    "    and status='OK' and extid='668';\n",
    "\"\"\"\n",
    "query=q.format(t1=startdate, t2=enddate)\n",
    "print query\n",
    "ds2=c.ts_query('aarhus2', query)\n",
    "print ds2\n",
    "print ds2.rows"
   ]
  },
  {
   "cell_type": "code",
   "execution_count": null,
   "metadata": {
    "collapsed": true
   },
   "outputs": [],
   "source": []
  }
 ],
 "metadata": {
  "kernelspec": {
   "display_name": "Python 2",
   "language": "python",
   "name": "python2"
  },
  "language_info": {
   "codemirror_mode": {
    "name": "ipython",
    "version": 2
   },
   "file_extension": ".py",
   "mimetype": "text/x-python",
   "name": "python",
   "nbconvert_exporter": "python",
   "pygments_lexer": "ipython2",
   "version": "2.7.6"
  }
 },
 "nbformat": 4,
 "nbformat_minor": 0
}
