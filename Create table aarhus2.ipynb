{
 "cells": [
  {
   "cell_type": "code",
   "execution_count": 1,
   "metadata": {
    "collapsed": false
   },
   "outputs": [
    {
     "name": "stderr",
     "output_type": "stream",
     "text": [
      "/home/stephen/aarhus/local/lib/python2.7/site-packages/riak/security.py:45: UserWarning: OpenSSL 1.0.1f 6 Jan 2014 (>= 1.0.1g required), TLS 1.2 support: False\n",
      "  warnings.warn(msg, UserWarning)\n"
     ]
    }
   ],
   "source": [
    "from riak import RiakClient"
   ]
  },
  {
   "cell_type": "code",
   "execution_count": 2,
   "metadata": {
    "collapsed": false
   },
   "outputs": [
    {
     "data": {
      "text/plain": [
       "True"
      ]
     },
     "execution_count": 2,
     "metadata": {},
     "output_type": "execute_result"
    }
   ],
   "source": [
    "c=RiakClient()\n",
    "c.ping()"
   ]
  },
  {
   "cell_type": "code",
   "execution_count": 4,
   "metadata": {
    "collapsed": false
   },
   "outputs": [
    {
     "data": {
      "text/plain": [
       "<riak.ts_object.TsObject at 0x7fecc404a890>"
      ]
     },
     "execution_count": 4,
     "metadata": {},
     "output_type": "execute_result"
    }
   ],
   "source": [
    "#create table\n",
    "\n",
    "fmt=\"\"\"\n",
    "    CREATE TABLE aarhus2 (\n",
    "        status varchar not null,\n",
    "        extid varchar not null,\n",
    "        ts timestamp not null,\n",
    "        avgMeasuredTime sint64 not null,\n",
    "        avgSpeed sint64 not null,\n",
    "        medianMeasuredTime sint64 not null,\n",
    "        vehicleCount sint64 not null,\n",
    "        id sint64 not null,\n",
    "        report_id sint64 not null,\n",
    "        PRIMARY KEY(\n",
    "            (status,extid,quantum(ts,30,'d')),status,extid,ts)\n",
    "            )\n",
    "\"\"\"\n",
    "c.ts_query('aarhus2',fmt)"
   ]
  },
  {
   "cell_type": "code",
   "execution_count": 5,
   "metadata": {
    "collapsed": true
   },
   "outputs": [],
   "source": [
    "t=c.table('aarhus2')\n",
    "to=t.describe()"
   ]
  },
  {
   "cell_type": "code",
   "execution_count": 6,
   "metadata": {
    "collapsed": false,
    "scrolled": true
   },
   "outputs": [
    {
     "name": "stdout",
     "output_type": "stream",
     "text": [
      "['status', 'varchar', False, 1L, 1L]\n",
      "['extid', 'varchar', False, 2L, 2L]\n",
      "['ts', 'timestamp', False, 3L, 3L]\n",
      "['avgMeasuredTime', 'sint64', False, None, None]\n",
      "['avgSpeed', 'sint64', False, None, None]\n",
      "['medianMeasuredTime', 'sint64', False, None, None]\n",
      "['vehicleCount', 'sint64', False, None, None]\n",
      "['id', 'sint64', False, None, None]\n",
      "['report_id', 'sint64', False, None, None]\n"
     ]
    }
   ],
   "source": [
    "for r in to.rows:\n",
    "    print r"
   ]
  },
  {
   "cell_type": "markdown",
   "metadata": {},
   "source": [
    "Need to change the n_val using the riak-admin cli\n",
    "\n",
    "$riak-admin bucket-type update aarhus2 '{\"props\":{\"n_val\":1}}'\n",
    "aarhus updated\n",
    "\n",
    "$ riak-admin bucket-type status aarhus2\n",
    "aarhus is active\n",
    "\n",
    "active: true\n",
    "allow_mult: true\n",
    "basic_quorum: false\n",
    "big_vclock: 50\n",
    "chash_keyfun: {riak_core_util,chash_std_keyfun}\n",
    "claimant: 'riak@127.0.0.1'\n",
    "ddl: {ddl_v1,<<\"aarhus\">>,\n",
    "             [{riak_field_v1,<<\"family\">>,1,varchar,false},\n",
    "              {riak_field_v1,<<\"extid\">>,2,varchar,false},\n",
    "              {riak_field_v1,<<\"ts\">>,3,timestamp,false},\n",
    "              {riak_field_v1,<<\"avgMeasuredTime\">>,4,sint64,false},\n",
    "              {riak_field_v1,<<\"avgSpeed\">>,5,sint64,false},\n",
    "              {riak_field_v1,<<\"medianMeasuredTime\">>,6,sint64,false},\n",
    "              {riak_field_v1,<<\"vehicleCount\">>,7,sint64,false},\n",
    "              {riak_field_v1,<<\"id\">>,8,sint64,false},\n",
    "              {riak_field_v1,<<\"report_id\">>,9,sint64,false}],\n",
    "             {key_v1,[{param_v1,[<<\"family\">>]},\n",
    "                      {param_v1,[<<\"extid\">>]},\n",
    "                      {hash_fn_v1,riak_ql_quanta,quantum,\n",
    "                                  [{param_v1,[<<\"ts\">>]},30,d],\n",
    "                                  timestamp}]},\n",
    "             {key_v1,[{param_v1,[<<\"family\">>]},\n",
    "                      {param_v1,[<<\"extid\">>]},\n",
    "                      {param_v1,[<<\"ts\">>]}]}}\n",
    "dvv_enabled: true\n",
    "dw: quorum\n",
    "last_write_wins: false\n",
    "linkfun: {modfun,riak_kv_wm_link_walker,mapreduce_linkfun}\n",
    "n_val: 1\n",
    "notfound_ok: true\n",
    "old_vclock: 86400\n",
    "postcommit: []\n",
    "pr: 0\n",
    "precommit: []\n",
    "pw: 0\n",
    "r: quorum\n",
    "rw: quorum\n",
    "small_vclock: 50\n",
    "w: quorum\n",
    "write_once: true\n",
    "young_vclock: 20\n"
   ]
  },
  {
   "cell_type": "markdown",
   "metadata": {},
   "source": [
    "#### Now use the script load-data-v2.py to load data into the table created above"
   ]
  },
  {
   "cell_type": "code",
   "execution_count": null,
   "metadata": {
    "collapsed": true
   },
   "outputs": [],
   "source": []
  }
 ],
 "metadata": {
  "kernelspec": {
   "display_name": "Python 2",
   "language": "python",
   "name": "python2"
  },
  "language_info": {
   "codemirror_mode": {
    "name": "ipython",
    "version": 2
   },
   "file_extension": ".py",
   "mimetype": "text/x-python",
   "name": "python",
   "nbconvert_exporter": "python",
   "pygments_lexer": "ipython2",
   "version": "2.7.6"
  }
 },
 "nbformat": 4,
 "nbformat_minor": 0
}
