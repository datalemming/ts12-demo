{
 "cells": [
  {
   "cell_type": "code",
   "execution_count": 4,
   "metadata": {
    "collapsed": false
   },
   "outputs": [
    {
     "name": "stderr",
     "output_type": "stream",
     "text": [
      "/home/stephen/aarhus/local/lib/python2.7/site-packages/riak/security.py:45: UserWarning: OpenSSL 1.0.1f 6 Jan 2014 (>= 1.0.1g required), TLS 1.2 support: False\n",
      "  warnings.warn(msg, UserWarning)\n"
     ]
    }
   ],
   "source": [
    "from riak import RiakClient\n",
    "from datetime import datetime\n",
    "import calendar\n",
    "import csv\n",
    "def changetime(stime):\n",
    "            dt=datetime.strptime(stime,'%Y-%m-%dT%H:%M:%S')\n",
    "            #print dt\n",
    "            return calendar.timegm(datetime.timetuple(dt))*1000"
   ]
  },
  {
   "cell_type": "code",
   "execution_count": 6,
   "metadata": {
    "collapsed": false
   },
   "outputs": [
    {
     "data": {
      "text/plain": [
       "True"
      ]
     },
     "execution_count": 6,
     "metadata": {},
     "output_type": "execute_result"
    }
   ],
   "source": [
    "c=RiakClient()\n",
    "c.ping()"
   ]
  },
  {
   "cell_type": "code",
   "execution_count": 7,
   "metadata": {
    "collapsed": false
   },
   "outputs": [
    {
     "data": {
      "text/plain": [
       "<riak.ts_object.TsObject at 0x7f5bedba1810>"
      ]
     },
     "execution_count": 7,
     "metadata": {},
     "output_type": "execute_result"
    }
   ],
   "source": [
    "#create table\n",
    "\n",
    "fmt=\"\"\"\n",
    "    CREATE TABLE aarhus (\n",
    "        family varchar not null,\n",
    "        extid varchar not null,\n",
    "        ts timestamp not null,\n",
    "        avgMeasuredTime sint64 not null,\n",
    "        avgSpeed sint64 not null,\n",
    "        medianMeasuredTime sint64 not null,\n",
    "        vehicleCount sint64 not null,\n",
    "        id sint64 not null,\n",
    "        report_id sint64 not null,\n",
    "        PRIMARY KEY(\n",
    "            (family,extid,quantum(ts,30,'d')),family,extid,ts)\n",
    "            )\n",
    "\"\"\"\n",
    "c.ts_query('aarhus',fmt)"
   ]
  },
  {
   "cell_type": "code",
   "execution_count": 8,
   "metadata": {
    "collapsed": true
   },
   "outputs": [],
   "source": [
    "t=c.table('aarhus')\n",
    "to=t.describe()"
   ]
  },
  {
   "cell_type": "code",
   "execution_count": 9,
   "metadata": {
    "collapsed": false
   },
   "outputs": [
    {
     "name": "stdout",
     "output_type": "stream",
     "text": [
      "['family', 'varchar', False, 1L, 1L]\n",
      "['extid', 'varchar', False, 2L, 2L]\n",
      "['ts', 'timestamp', False, 3L, 3L]\n",
      "['avgMeasuredTime', 'sint64', False, None, None]\n",
      "['avgSpeed', 'sint64', False, None, None]\n",
      "['medianMeasuredTime', 'sint64', False, None, None]\n",
      "['vehicleCount', 'sint64', False, None, None]\n",
      "['id', 'sint64', False, None, None]\n",
      "['report_id', 'sint64', False, None, None]\n"
     ]
    }
   ],
   "source": [
    "for r in to.rows:\n",
    "    print r"
   ]
  },
  {
   "cell_type": "markdown",
   "metadata": {},
   "source": [
    "Need to change the n_val using the riak-admin cli\n",
    "\n",
    "$riak-admin bucket-type update aarhus '{\"props\":{\"n_val\":1}}'\n",
    "aarhus updated\n",
    "\n",
    "$ riak-admin bucket-type status aarhus\n",
    "aarhus is active\n",
    "\n",
    "active: true\n",
    "allow_mult: true\n",
    "basic_quorum: false\n",
    "big_vclock: 50\n",
    "chash_keyfun: {riak_core_util,chash_std_keyfun}\n",
    "claimant: 'riak@127.0.0.1'\n",
    "ddl: {ddl_v1,<<\"aarhus\">>,\n",
    "             [{riak_field_v1,<<\"family\">>,1,varchar,false},\n",
    "              {riak_field_v1,<<\"extid\">>,2,varchar,false},\n",
    "              {riak_field_v1,<<\"ts\">>,3,timestamp,false},\n",
    "              {riak_field_v1,<<\"avgMeasuredTime\">>,4,sint64,false},\n",
    "              {riak_field_v1,<<\"avgSpeed\">>,5,sint64,false},\n",
    "              {riak_field_v1,<<\"medianMeasuredTime\">>,6,sint64,false},\n",
    "              {riak_field_v1,<<\"vehicleCount\">>,7,sint64,false},\n",
    "              {riak_field_v1,<<\"id\">>,8,sint64,false},\n",
    "              {riak_field_v1,<<\"report_id\">>,9,sint64,false}],\n",
    "             {key_v1,[{param_v1,[<<\"family\">>]},\n",
    "                      {param_v1,[<<\"extid\">>]},\n",
    "                      {hash_fn_v1,riak_ql_quanta,quantum,\n",
    "                                  [{param_v1,[<<\"ts\">>]},30,d],\n",
    "                                  timestamp}]},\n",
    "             {key_v1,[{param_v1,[<<\"family\">>]},\n",
    "                      {param_v1,[<<\"extid\">>]},\n",
    "                      {param_v1,[<<\"ts\">>]}]}}\n",
    "dvv_enabled: true\n",
    "dw: quorum\n",
    "last_write_wins: false\n",
    "linkfun: {modfun,riak_kv_wm_link_walker,mapreduce_linkfun}\n",
    "n_val: 1\n",
    "notfound_ok: true\n",
    "old_vclock: 86400\n",
    "postcommit: []\n",
    "pr: 0\n",
    "precommit: []\n",
    "pw: 0\n",
    "r: quorum\n",
    "rw: quorum\n",
    "small_vclock: 50\n",
    "w: quorum\n",
    "write_once: true\n",
    "young_vclock: 20\n"
   ]
  },
  {
   "cell_type": "code",
   "execution_count": null,
   "metadata": {
    "collapsed": false
   },
   "outputs": [
    {
     "name": "stdout",
     "output_type": "stream",
     "text": [
      "aarhus\n",
      "Storage result:  "
     ]
    }
   ],
   "source": [
    "#to load data in the table\n",
    "\n",
    "count=0\n",
    "ds=[]\n",
    "t=c.table('aarhus')\n",
    "print t\n",
    "\n",
    "\n",
    "with open('./traffic_feb_june/all-data-2.csv', 'rU') as infile:\n",
    "    r=csv.reader(infile)\n",
    "    for l in r:\n",
    "        newl=['1',str(l[3]),changetime(l[5]),int(l[1]),int(l[2]),int(l[4]),int(l[6]),int(l[7]),int(l[8])]\n",
    "        count=count+1\n",
    "        ds.append(newl)\n",
    "infile.close()\n",
    "to=t.new(ds)\n",
    "print \"Storage result:  \",to.store()\n",
    "print count"
   ]
  },
  {
   "cell_type": "code",
   "execution_count": null,
   "metadata": {
    "collapsed": true
   },
   "outputs": [],
   "source": [
    "print c.query('aarhus','DESCRIBE aarhus')"
   ]
  },
  {
   "cell_type": "code",
   "execution_count": null,
   "metadata": {
    "collapsed": true
   },
   "outputs": [],
   "source": []
  }
 ],
 "metadata": {
  "kernelspec": {
   "display_name": "Python 2",
   "language": "python",
   "name": "python2"
  },
  "language_info": {
   "codemirror_mode": {
    "name": "ipython",
    "version": 2
   },
   "file_extension": ".py",
   "mimetype": "text/x-python",
   "name": "python",
   "nbconvert_exporter": "python",
   "pygments_lexer": "ipython2",
   "version": "2.7.6"
  }
 },
 "nbformat": 4,
 "nbformat_minor": 0
}
