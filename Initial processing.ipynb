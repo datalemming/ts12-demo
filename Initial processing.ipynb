{
 "cells": [
  {
   "cell_type": "code",
   "execution_count": 1,
   "metadata": {
    "collapsed": false
   },
   "outputs": [
    {
     "name": "stderr",
     "output_type": "stream",
     "text": [
      "/home/stephen/aarhus/local/lib/python2.7/site-packages/matplotlib/font_manager.py:273: UserWarning: Matplotlib is building the font cache using fc-list. This may take a moment.\n",
      "  warnings.warn('Matplotlib is building the font cache using fc-list. This may take a moment.')\n"
     ]
    }
   ],
   "source": [
    "import numpy as np\n",
    "import pandas as pd\n",
    "import matplotlib as plt\n",
    "%matplotlib inline"
   ]
  },
  {
   "cell_type": "code",
   "execution_count": 3,
   "metadata": {
    "collapsed": false
   },
   "outputs": [],
   "source": [
    "df1=pd.read_csv('./traffic_feb_june/trafficData158324.csv')"
   ]
  },
  {
   "cell_type": "code",
   "execution_count": 4,
   "metadata": {
    "collapsed": false
   },
   "outputs": [
    {
     "data": {
      "text/html": [
       "<div>\n",
       "<table border=\"1\" class=\"dataframe\">\n",
       "  <thead>\n",
       "    <tr style=\"text-align: right;\">\n",
       "      <th></th>\n",
       "      <th>avgMeasuredTime</th>\n",
       "      <th>avgSpeed</th>\n",
       "      <th>extID</th>\n",
       "      <th>medianMeasuredTime</th>\n",
       "      <th>vehicleCount</th>\n",
       "      <th>_id</th>\n",
       "      <th>REPORT_ID</th>\n",
       "    </tr>\n",
       "  </thead>\n",
       "  <tbody>\n",
       "    <tr>\n",
       "      <th>count</th>\n",
       "      <td>32075.000000</td>\n",
       "      <td>32075.000000</td>\n",
       "      <td>32075</td>\n",
       "      <td>32075.000000</td>\n",
       "      <td>32075.000000</td>\n",
       "      <td>32075.000000</td>\n",
       "      <td>32075</td>\n",
       "    </tr>\n",
       "    <tr>\n",
       "      <th>mean</th>\n",
       "      <td>62.842214</td>\n",
       "      <td>61.103757</td>\n",
       "      <td>668</td>\n",
       "      <td>62.842214</td>\n",
       "      <td>4.303944</td>\n",
       "      <td>7290174.557506</td>\n",
       "      <td>158324</td>\n",
       "    </tr>\n",
       "    <tr>\n",
       "      <th>std</th>\n",
       "      <td>17.318649</td>\n",
       "      <td>11.443108</td>\n",
       "      <td>0</td>\n",
       "      <td>17.318649</td>\n",
       "      <td>5.162599</td>\n",
       "      <td>4101691.218137</td>\n",
       "      <td>0</td>\n",
       "    </tr>\n",
       "    <tr>\n",
       "      <th>min</th>\n",
       "      <td>0.000000</td>\n",
       "      <td>0.000000</td>\n",
       "      <td>668</td>\n",
       "      <td>0.000000</td>\n",
       "      <td>0.000000</td>\n",
       "      <td>190000.000000</td>\n",
       "      <td>158324</td>\n",
       "    </tr>\n",
       "    <tr>\n",
       "      <th>25%</th>\n",
       "      <td>55.000000</td>\n",
       "      <td>55.000000</td>\n",
       "      <td>668</td>\n",
       "      <td>55.000000</td>\n",
       "      <td>0.000000</td>\n",
       "      <td>3737176.500000</td>\n",
       "      <td>158324</td>\n",
       "    </tr>\n",
       "    <tr>\n",
       "      <th>50%</th>\n",
       "      <td>61.000000</td>\n",
       "      <td>60.000000</td>\n",
       "      <td>668</td>\n",
       "      <td>61.000000</td>\n",
       "      <td>2.000000</td>\n",
       "      <td>7286405.000000</td>\n",
       "      <td>158324</td>\n",
       "    </tr>\n",
       "    <tr>\n",
       "      <th>75%</th>\n",
       "      <td>67.000000</td>\n",
       "      <td>67.000000</td>\n",
       "      <td>668</td>\n",
       "      <td>67.000000</td>\n",
       "      <td>7.000000</td>\n",
       "      <td>10846055.500000</td>\n",
       "      <td>158324</td>\n",
       "    </tr>\n",
       "    <tr>\n",
       "      <th>max</th>\n",
       "      <td>275.000000</td>\n",
       "      <td>132.000000</td>\n",
       "      <td>668</td>\n",
       "      <td>275.000000</td>\n",
       "      <td>36.000000</td>\n",
       "      <td>14353801.000000</td>\n",
       "      <td>158324</td>\n",
       "    </tr>\n",
       "  </tbody>\n",
       "</table>\n",
       "</div>"
      ],
      "text/plain": [
       "       avgMeasuredTime      avgSpeed  extID  medianMeasuredTime  vehicleCount  \\\n",
       "count     32075.000000  32075.000000  32075        32075.000000  32075.000000   \n",
       "mean         62.842214     61.103757    668           62.842214      4.303944   \n",
       "std          17.318649     11.443108      0           17.318649      5.162599   \n",
       "min           0.000000      0.000000    668            0.000000      0.000000   \n",
       "25%          55.000000     55.000000    668           55.000000      0.000000   \n",
       "50%          61.000000     60.000000    668           61.000000      2.000000   \n",
       "75%          67.000000     67.000000    668           67.000000      7.000000   \n",
       "max         275.000000    132.000000    668          275.000000     36.000000   \n",
       "\n",
       "                   _id  REPORT_ID  \n",
       "count     32075.000000      32075  \n",
       "mean    7290174.557506     158324  \n",
       "std     4101691.218137          0  \n",
       "min      190000.000000     158324  \n",
       "25%     3737176.500000     158324  \n",
       "50%     7286405.000000     158324  \n",
       "75%    10846055.500000     158324  \n",
       "max    14353801.000000     158324  "
      ]
     },
     "execution_count": 4,
     "metadata": {},
     "output_type": "execute_result"
    }
   ],
   "source": [
    "df1.describe()"
   ]
  },
  {
   "cell_type": "code",
   "execution_count": 5,
   "metadata": {
    "collapsed": true
   },
   "outputs": [],
   "source": [
    "import csv"
   ]
  },
  {
   "cell_type": "code",
   "execution_count": 6,
   "metadata": {
    "collapsed": false
   },
   "outputs": [
    {
     "name": "stdout",
     "output_type": "stream",
     "text": [
      "Completed\n"
     ]
    }
   ],
   "source": [
    "#to clean up the 'cat' csv files and only have one header row.\n",
    "\n",
    "with open('./traffic_feb_june/all-data.csv','rU') as f:\n",
    "    datareader=csv.reader(f)\n",
    "    titlecount=0\n",
    "    w=open('./traffic_feb_june/all-data-2.csv','w')\n",
    "    wwriter=csv.writer(w)\n",
    "    for r in datareader:\n",
    "        #print r\n",
    "        if r[0]=='status' and titlecount==0:\n",
    "            titlecount=titlecount+1\n",
    "            wwriter.writerow(r)\n",
    "        if r[0] != 'status' and titlecount==1:\n",
    "            wwriter.writerow(r)\n",
    "f.close()\n",
    "w.close()\n",
    "print \"Completed\""
   ]
  },
  {
   "cell_type": "code",
   "execution_count": 13,
   "metadata": {
    "collapsed": false
   },
   "outputs": [
    {
     "name": "stdout",
     "output_type": "stream",
     "text": [
      "2014-02-13 11:30:00\n",
      "1392291000000\n",
      "2014-02-13 11:35:00\n",
      "1392291300000\n",
      "2014-02-13 11:40:00\n",
      "1392291600000\n",
      "2014-02-13 11:45:00\n",
      "1392291900000\n",
      "2014-02-13 11:50:00\n",
      "1392292200000\n",
      "2014-02-13 11:55:00\n",
      "1392292500000\n",
      "2014-02-13 12:00:00\n",
      "1392292800000\n",
      "2014-02-13 12:05:00\n",
      "1392293100000\n",
      "2014-02-13 12:10:00\n",
      "1392293400000\n",
      "2014-02-13 12:15:00\n",
      "1392293700000\n",
      "2014-02-13 12:20:00\n",
      "1392294000000\n",
      "2014-02-13 12:25:00\n",
      "1392294300000\n",
      "2014-02-13 12:30:00\n",
      "1392294600000\n",
      "2014-02-13 12:35:00\n",
      "1392294900000\n",
      "2014-02-13 12:40:00\n",
      "1392295200000\n",
      "2014-02-13 12:45:00\n",
      "1392295500000\n",
      "2014-02-13 12:50:00\n",
      "1392295800000\n",
      "2014-02-13 12:55:00\n",
      "1392296100000\n",
      "2014-02-13 13:00:00\n",
      "1392296400000\n",
      "2014-02-13 13:05:00\n",
      "1392296700000\n"
     ]
    }
   ],
   "source": [
    "from datetime import datetime\n",
    "import csv\n",
    "import calendar\n",
    "with open('./traffic_feb_june/test.csv','rU') as f:\n",
    "    datareader=csv.reader(f)\n",
    "    for r in datareader:\n",
    "        if r[5]!='TIMESTAMP':\n",
    "            dt=datetime.strptime(r[5],'%Y-%m-%dT%H:%M:%S')\n",
    "            print dt\n",
    "            print calendar.timegm(datetime.timetuple(dt))*1000"
   ]
  },
  {
   "cell_type": "code",
   "execution_count": null,
   "metadata": {
    "collapsed": true
   },
   "outputs": [],
   "source": []
  }
 ],
 "metadata": {
  "kernelspec": {
   "display_name": "Python 2",
   "language": "python",
   "name": "python2"
  },
  "language_info": {
   "codemirror_mode": {
    "name": "ipython",
    "version": 2
   },
   "file_extension": ".py",
   "mimetype": "text/x-python",
   "name": "python",
   "nbconvert_exporter": "python",
   "pygments_lexer": "ipython2",
   "version": "2.7.6"
  }
 },
 "nbformat": 4,
 "nbformat_minor": 0
}
